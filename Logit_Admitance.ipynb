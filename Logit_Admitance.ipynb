{
  "nbformat": 4,
  "nbformat_minor": 0,
  "metadata": {
    "colab": {
      "provenance": [],
      "include_colab_link": true
    },
    "kernelspec": {
      "name": "python3",
      "display_name": "Python 3"
    },
    "language_info": {
      "name": "python"
    }
  },
  "cells": [
    {
      "cell_type": "markdown",
      "metadata": {
        "id": "view-in-github",
        "colab_type": "text"
      },
      "source": [
        "<a href=\"https://colab.research.google.com/github/JsubToSky/Lab-1-Red-Interconexi-n/blob/main/Logit_Admitance.ipynb\" target=\"_parent\"><img src=\"https://colab.research.google.com/assets/colab-badge.svg\" alt=\"Open In Colab\"/></a>"
      ]
    },
    {
      "cell_type": "markdown",
      "source": [
        "#Base de datos de estudiantes admitidos según puntaje de SAT."
      ],
      "metadata": {
        "id": "U14_a4mdKP6t"
      }
    },
    {
      "cell_type": "markdown",
      "source": [
        "\n",
        "Esta base de datos que se presenta con el nombre binary predictors se encuentra relacionada a un contexto de estudiantes que son o no admitidos a una institución educativa, indicando los puntajes que obtuvieron en la prueba SAT. A continuación se presenta el desarrollo del análisis descriptivo de la base llamada binary predictors, de la cúal se extrae la base de Admittance. Posteriormente se realizará un modelo de machine learning usando una regresión logistica para predecir si es admitido o no el estudiante basado en el puntaje del SAT y/o Género."
      ],
      "metadata": {
        "id": "aaAxQa-3VIBJ"
      }
    },
    {
      "cell_type": "markdown",
      "source": [
        "## Análisis descriptivo"
      ],
      "metadata": {
        "id": "bLuZ7CKJZm40"
      }
    },
    {
      "cell_type": "markdown",
      "source": [
        "Inicialmente se importan la librerías que se han de usar para manejar, manipular y graficar los datos. También se importa sklearn que permite generar el modelo de predicción y calcular sus métricas"
      ],
      "metadata": {
        "id": "0e2t_b6qZsXe"
      }
    },
    {
      "cell_type": "code",
      "source": [
        "from sklearn import datasets\n",
        "import matplotlib.pyplot as plt\n",
        "import seaborn as sns\n",
        "import numpy as np\n",
        "import pandas as pd\n",
        "from sklearn import metrics\n",
        "from sklearn.linear_model import LogisticRegression\n",
        "from sklearn.metrics import accuracy_score\n",
        "from sklearn.metrics import recall_score\n",
        "from sklearn.metrics import f1_score\n",
        "from sklearn.metrics import matthews_corrcoef"
      ],
      "metadata": {
        "id": "DpQwwTAHTl9Z"
      },
      "execution_count": null,
      "outputs": []
    },
    {
      "cell_type": "markdown",
      "source": [
        "Usando la librerías se importa la base de datos Admittance y binary predictors"
      ],
      "metadata": {
        "id": "_P1YYrIAZ7XS"
      }
    },
    {
      "cell_type": "code",
      "source": [
        "raw_data_1 = pd.read_csv('/content/drive/MyDrive/Catalina Castro/Analítica/2.01. Admittance (1).csv')\n",
        "data1 = raw_data_1.copy()\n",
        "data1['Admitted'] = data1['Admitted'].map({'Yes':1,'No':0})\n",
        "data1.head()"
      ],
      "metadata": {
        "id": "vkdJCfd_RXzU",
        "colab": {
          "base_uri": "https://localhost:8080/",
          "height": 206
        },
        "outputId": "036ae41d-5b43-4335-c53e-cf453c53bd3c"
      },
      "execution_count": null,
      "outputs": [
        {
          "output_type": "execute_result",
          "data": {
            "text/plain": [
              "    SAT  Admitted\n",
              "0  1363         0\n",
              "1  1792         1\n",
              "2  1954         1\n",
              "3  1653         0\n",
              "4  1593         0"
            ],
            "text/html": [
              "\n",
              "  <div id=\"df-3c3ca26c-643a-4bc8-9584-34b35a2ed005\" class=\"colab-df-container\">\n",
              "    <div>\n",
              "<style scoped>\n",
              "    .dataframe tbody tr th:only-of-type {\n",
              "        vertical-align: middle;\n",
              "    }\n",
              "\n",
              "    .dataframe tbody tr th {\n",
              "        vertical-align: top;\n",
              "    }\n",
              "\n",
              "    .dataframe thead th {\n",
              "        text-align: right;\n",
              "    }\n",
              "</style>\n",
              "<table border=\"1\" class=\"dataframe\">\n",
              "  <thead>\n",
              "    <tr style=\"text-align: right;\">\n",
              "      <th></th>\n",
              "      <th>SAT</th>\n",
              "      <th>Admitted</th>\n",
              "    </tr>\n",
              "  </thead>\n",
              "  <tbody>\n",
              "    <tr>\n",
              "      <th>0</th>\n",
              "      <td>1363</td>\n",
              "      <td>0</td>\n",
              "    </tr>\n",
              "    <tr>\n",
              "      <th>1</th>\n",
              "      <td>1792</td>\n",
              "      <td>1</td>\n",
              "    </tr>\n",
              "    <tr>\n",
              "      <th>2</th>\n",
              "      <td>1954</td>\n",
              "      <td>1</td>\n",
              "    </tr>\n",
              "    <tr>\n",
              "      <th>3</th>\n",
              "      <td>1653</td>\n",
              "      <td>0</td>\n",
              "    </tr>\n",
              "    <tr>\n",
              "      <th>4</th>\n",
              "      <td>1593</td>\n",
              "      <td>0</td>\n",
              "    </tr>\n",
              "  </tbody>\n",
              "</table>\n",
              "</div>\n",
              "    <div class=\"colab-df-buttons\">\n",
              "\n",
              "  <div class=\"colab-df-container\">\n",
              "    <button class=\"colab-df-convert\" onclick=\"convertToInteractive('df-3c3ca26c-643a-4bc8-9584-34b35a2ed005')\"\n",
              "            title=\"Convert this dataframe to an interactive table.\"\n",
              "            style=\"display:none;\">\n",
              "\n",
              "  <svg xmlns=\"http://www.w3.org/2000/svg\" height=\"24px\" viewBox=\"0 -960 960 960\">\n",
              "    <path d=\"M120-120v-720h720v720H120Zm60-500h600v-160H180v160Zm220 220h160v-160H400v160Zm0 220h160v-160H400v160ZM180-400h160v-160H180v160Zm440 0h160v-160H620v160ZM180-180h160v-160H180v160Zm440 0h160v-160H620v160Z\"/>\n",
              "  </svg>\n",
              "    </button>\n",
              "\n",
              "  <style>\n",
              "    .colab-df-container {\n",
              "      display:flex;\n",
              "      gap: 12px;\n",
              "    }\n",
              "\n",
              "    .colab-df-convert {\n",
              "      background-color: #E8F0FE;\n",
              "      border: none;\n",
              "      border-radius: 50%;\n",
              "      cursor: pointer;\n",
              "      display: none;\n",
              "      fill: #1967D2;\n",
              "      height: 32px;\n",
              "      padding: 0 0 0 0;\n",
              "      width: 32px;\n",
              "    }\n",
              "\n",
              "    .colab-df-convert:hover {\n",
              "      background-color: #E2EBFA;\n",
              "      box-shadow: 0px 1px 2px rgba(60, 64, 67, 0.3), 0px 1px 3px 1px rgba(60, 64, 67, 0.15);\n",
              "      fill: #174EA6;\n",
              "    }\n",
              "\n",
              "    .colab-df-buttons div {\n",
              "      margin-bottom: 4px;\n",
              "    }\n",
              "\n",
              "    [theme=dark] .colab-df-convert {\n",
              "      background-color: #3B4455;\n",
              "      fill: #D2E3FC;\n",
              "    }\n",
              "\n",
              "    [theme=dark] .colab-df-convert:hover {\n",
              "      background-color: #434B5C;\n",
              "      box-shadow: 0px 1px 3px 1px rgba(0, 0, 0, 0.15);\n",
              "      filter: drop-shadow(0px 1px 2px rgba(0, 0, 0, 0.3));\n",
              "      fill: #FFFFFF;\n",
              "    }\n",
              "  </style>\n",
              "\n",
              "    <script>\n",
              "      const buttonEl =\n",
              "        document.querySelector('#df-3c3ca26c-643a-4bc8-9584-34b35a2ed005 button.colab-df-convert');\n",
              "      buttonEl.style.display =\n",
              "        google.colab.kernel.accessAllowed ? 'block' : 'none';\n",
              "\n",
              "      async function convertToInteractive(key) {\n",
              "        const element = document.querySelector('#df-3c3ca26c-643a-4bc8-9584-34b35a2ed005');\n",
              "        const dataTable =\n",
              "          await google.colab.kernel.invokeFunction('convertToInteractive',\n",
              "                                                    [key], {});\n",
              "        if (!dataTable) return;\n",
              "\n",
              "        const docLinkHtml = 'Like what you see? Visit the ' +\n",
              "          '<a target=\"_blank\" href=https://colab.research.google.com/notebooks/data_table.ipynb>data table notebook</a>'\n",
              "          + ' to learn more about interactive tables.';\n",
              "        element.innerHTML = '';\n",
              "        dataTable['output_type'] = 'display_data';\n",
              "        await google.colab.output.renderOutput(dataTable, element);\n",
              "        const docLink = document.createElement('div');\n",
              "        docLink.innerHTML = docLinkHtml;\n",
              "        element.appendChild(docLink);\n",
              "      }\n",
              "    </script>\n",
              "  </div>\n",
              "\n",
              "\n",
              "<div id=\"df-86947df1-ad43-40df-89ba-b3281b396a64\">\n",
              "  <button class=\"colab-df-quickchart\" onclick=\"quickchart('df-86947df1-ad43-40df-89ba-b3281b396a64')\"\n",
              "            title=\"Suggest charts\"\n",
              "            style=\"display:none;\">\n",
              "\n",
              "<svg xmlns=\"http://www.w3.org/2000/svg\" height=\"24px\"viewBox=\"0 0 24 24\"\n",
              "     width=\"24px\">\n",
              "    <g>\n",
              "        <path d=\"M19 3H5c-1.1 0-2 .9-2 2v14c0 1.1.9 2 2 2h14c1.1 0 2-.9 2-2V5c0-1.1-.9-2-2-2zM9 17H7v-7h2v7zm4 0h-2V7h2v10zm4 0h-2v-4h2v4z\"/>\n",
              "    </g>\n",
              "</svg>\n",
              "  </button>\n",
              "\n",
              "<style>\n",
              "  .colab-df-quickchart {\n",
              "      --bg-color: #E8F0FE;\n",
              "      --fill-color: #1967D2;\n",
              "      --hover-bg-color: #E2EBFA;\n",
              "      --hover-fill-color: #174EA6;\n",
              "      --disabled-fill-color: #AAA;\n",
              "      --disabled-bg-color: #DDD;\n",
              "  }\n",
              "\n",
              "  [theme=dark] .colab-df-quickchart {\n",
              "      --bg-color: #3B4455;\n",
              "      --fill-color: #D2E3FC;\n",
              "      --hover-bg-color: #434B5C;\n",
              "      --hover-fill-color: #FFFFFF;\n",
              "      --disabled-bg-color: #3B4455;\n",
              "      --disabled-fill-color: #666;\n",
              "  }\n",
              "\n",
              "  .colab-df-quickchart {\n",
              "    background-color: var(--bg-color);\n",
              "    border: none;\n",
              "    border-radius: 50%;\n",
              "    cursor: pointer;\n",
              "    display: none;\n",
              "    fill: var(--fill-color);\n",
              "    height: 32px;\n",
              "    padding: 0;\n",
              "    width: 32px;\n",
              "  }\n",
              "\n",
              "  .colab-df-quickchart:hover {\n",
              "    background-color: var(--hover-bg-color);\n",
              "    box-shadow: 0 1px 2px rgba(60, 64, 67, 0.3), 0 1px 3px 1px rgba(60, 64, 67, 0.15);\n",
              "    fill: var(--button-hover-fill-color);\n",
              "  }\n",
              "\n",
              "  .colab-df-quickchart-complete:disabled,\n",
              "  .colab-df-quickchart-complete:disabled:hover {\n",
              "    background-color: var(--disabled-bg-color);\n",
              "    fill: var(--disabled-fill-color);\n",
              "    box-shadow: none;\n",
              "  }\n",
              "\n",
              "  .colab-df-spinner {\n",
              "    border: 2px solid var(--fill-color);\n",
              "    border-color: transparent;\n",
              "    border-bottom-color: var(--fill-color);\n",
              "    animation:\n",
              "      spin 1s steps(1) infinite;\n",
              "  }\n",
              "\n",
              "  @keyframes spin {\n",
              "    0% {\n",
              "      border-color: transparent;\n",
              "      border-bottom-color: var(--fill-color);\n",
              "      border-left-color: var(--fill-color);\n",
              "    }\n",
              "    20% {\n",
              "      border-color: transparent;\n",
              "      border-left-color: var(--fill-color);\n",
              "      border-top-color: var(--fill-color);\n",
              "    }\n",
              "    30% {\n",
              "      border-color: transparent;\n",
              "      border-left-color: var(--fill-color);\n",
              "      border-top-color: var(--fill-color);\n",
              "      border-right-color: var(--fill-color);\n",
              "    }\n",
              "    40% {\n",
              "      border-color: transparent;\n",
              "      border-right-color: var(--fill-color);\n",
              "      border-top-color: var(--fill-color);\n",
              "    }\n",
              "    60% {\n",
              "      border-color: transparent;\n",
              "      border-right-color: var(--fill-color);\n",
              "    }\n",
              "    80% {\n",
              "      border-color: transparent;\n",
              "      border-right-color: var(--fill-color);\n",
              "      border-bottom-color: var(--fill-color);\n",
              "    }\n",
              "    90% {\n",
              "      border-color: transparent;\n",
              "      border-bottom-color: var(--fill-color);\n",
              "    }\n",
              "  }\n",
              "</style>\n",
              "\n",
              "  <script>\n",
              "    async function quickchart(key) {\n",
              "      const quickchartButtonEl =\n",
              "        document.querySelector('#' + key + ' button');\n",
              "      quickchartButtonEl.disabled = true;  // To prevent multiple clicks.\n",
              "      quickchartButtonEl.classList.add('colab-df-spinner');\n",
              "      try {\n",
              "        const charts = await google.colab.kernel.invokeFunction(\n",
              "            'suggestCharts', [key], {});\n",
              "      } catch (error) {\n",
              "        console.error('Error during call to suggestCharts:', error);\n",
              "      }\n",
              "      quickchartButtonEl.classList.remove('colab-df-spinner');\n",
              "      quickchartButtonEl.classList.add('colab-df-quickchart-complete');\n",
              "    }\n",
              "    (() => {\n",
              "      let quickchartButtonEl =\n",
              "        document.querySelector('#df-86947df1-ad43-40df-89ba-b3281b396a64 button');\n",
              "      quickchartButtonEl.style.display =\n",
              "        google.colab.kernel.accessAllowed ? 'block' : 'none';\n",
              "    })();\n",
              "  </script>\n",
              "</div>\n",
              "\n",
              "    </div>\n",
              "  </div>\n"
            ],
            "application/vnd.google.colaboratory.intrinsic+json": {
              "type": "dataframe",
              "variable_name": "data1",
              "summary": "{\n  \"name\": \"data1\",\n  \"rows\": 168,\n  \"fields\": [\n    {\n      \"column\": \"SAT\",\n      \"properties\": {\n        \"dtype\": \"number\",\n        \"std\": 183,\n        \"min\": 1334,\n        \"max\": 2050,\n        \"num_unique_values\": 142,\n        \"samples\": [\n          1956,\n          1855,\n          1787\n        ],\n        \"semantic_type\": \"\",\n        \"description\": \"\"\n      }\n    },\n    {\n      \"column\": \"Admitted\",\n      \"properties\": {\n        \"dtype\": \"number\",\n        \"std\": 0,\n        \"min\": 0,\n        \"max\": 1,\n        \"num_unique_values\": 2,\n        \"samples\": [\n          1,\n          0\n        ],\n        \"semantic_type\": \"\",\n        \"description\": \"\"\n      }\n    }\n  ]\n}"
            }
          },
          "metadata": {},
          "execution_count": 108
        }
      ]
    },
    {
      "cell_type": "code",
      "source": [
        "from google.colab import drive\n",
        "drive.mount('/content/drive')"
      ],
      "metadata": {
        "colab": {
          "base_uri": "https://localhost:8080/"
        },
        "id": "YvAEhNyhi8F3",
        "outputId": "13a80ffd-32e2-4e74-d13c-6ff7f229f075"
      },
      "execution_count": null,
      "outputs": [
        {
          "output_type": "stream",
          "name": "stdout",
          "text": [
            "Drive already mounted at /content/drive; to attempt to forcibly remount, call drive.mount(\"/content/drive\", force_remount=True).\n"
          ]
        }
      ]
    },
    {
      "cell_type": "code",
      "source": [
        "raw_data_2 = pd.read_csv('/content/drive/MyDrive/Catalina Castro/Analítica/2.02. Binary predictors (1).csv')\n",
        "data2 = raw_data_2.copy()\n",
        "data2['Admitted'] = data2['Admitted'].map({'Yes':1,'No':0})\n",
        "data2['Gender'] = data2['Gender'].map({'Female':1,'Male':0})\n",
        "data2.head()"
      ],
      "metadata": {
        "colab": {
          "base_uri": "https://localhost:8080/",
          "height": 206
        },
        "id": "u5LbvPmoaHb2",
        "outputId": "3ca0ad08-a80c-43b5-e2fc-fb5149bb81ce"
      },
      "execution_count": null,
      "outputs": [
        {
          "output_type": "execute_result",
          "data": {
            "text/plain": [
              "    SAT  Admitted  Gender\n",
              "0  1363         0       0\n",
              "1  1792         1       1\n",
              "2  1954         1       1\n",
              "3  1653         0       0\n",
              "4  1593         0       0"
            ],
            "text/html": [
              "\n",
              "  <div id=\"df-e893c9b1-f779-45b9-91a9-e9523e9d2044\" class=\"colab-df-container\">\n",
              "    <div>\n",
              "<style scoped>\n",
              "    .dataframe tbody tr th:only-of-type {\n",
              "        vertical-align: middle;\n",
              "    }\n",
              "\n",
              "    .dataframe tbody tr th {\n",
              "        vertical-align: top;\n",
              "    }\n",
              "\n",
              "    .dataframe thead th {\n",
              "        text-align: right;\n",
              "    }\n",
              "</style>\n",
              "<table border=\"1\" class=\"dataframe\">\n",
              "  <thead>\n",
              "    <tr style=\"text-align: right;\">\n",
              "      <th></th>\n",
              "      <th>SAT</th>\n",
              "      <th>Admitted</th>\n",
              "      <th>Gender</th>\n",
              "    </tr>\n",
              "  </thead>\n",
              "  <tbody>\n",
              "    <tr>\n",
              "      <th>0</th>\n",
              "      <td>1363</td>\n",
              "      <td>0</td>\n",
              "      <td>0</td>\n",
              "    </tr>\n",
              "    <tr>\n",
              "      <th>1</th>\n",
              "      <td>1792</td>\n",
              "      <td>1</td>\n",
              "      <td>1</td>\n",
              "    </tr>\n",
              "    <tr>\n",
              "      <th>2</th>\n",
              "      <td>1954</td>\n",
              "      <td>1</td>\n",
              "      <td>1</td>\n",
              "    </tr>\n",
              "    <tr>\n",
              "      <th>3</th>\n",
              "      <td>1653</td>\n",
              "      <td>0</td>\n",
              "      <td>0</td>\n",
              "    </tr>\n",
              "    <tr>\n",
              "      <th>4</th>\n",
              "      <td>1593</td>\n",
              "      <td>0</td>\n",
              "      <td>0</td>\n",
              "    </tr>\n",
              "  </tbody>\n",
              "</table>\n",
              "</div>\n",
              "    <div class=\"colab-df-buttons\">\n",
              "\n",
              "  <div class=\"colab-df-container\">\n",
              "    <button class=\"colab-df-convert\" onclick=\"convertToInteractive('df-e893c9b1-f779-45b9-91a9-e9523e9d2044')\"\n",
              "            title=\"Convert this dataframe to an interactive table.\"\n",
              "            style=\"display:none;\">\n",
              "\n",
              "  <svg xmlns=\"http://www.w3.org/2000/svg\" height=\"24px\" viewBox=\"0 -960 960 960\">\n",
              "    <path d=\"M120-120v-720h720v720H120Zm60-500h600v-160H180v160Zm220 220h160v-160H400v160Zm0 220h160v-160H400v160ZM180-400h160v-160H180v160Zm440 0h160v-160H620v160ZM180-180h160v-160H180v160Zm440 0h160v-160H620v160Z\"/>\n",
              "  </svg>\n",
              "    </button>\n",
              "\n",
              "  <style>\n",
              "    .colab-df-container {\n",
              "      display:flex;\n",
              "      gap: 12px;\n",
              "    }\n",
              "\n",
              "    .colab-df-convert {\n",
              "      background-color: #E8F0FE;\n",
              "      border: none;\n",
              "      border-radius: 50%;\n",
              "      cursor: pointer;\n",
              "      display: none;\n",
              "      fill: #1967D2;\n",
              "      height: 32px;\n",
              "      padding: 0 0 0 0;\n",
              "      width: 32px;\n",
              "    }\n",
              "\n",
              "    .colab-df-convert:hover {\n",
              "      background-color: #E2EBFA;\n",
              "      box-shadow: 0px 1px 2px rgba(60, 64, 67, 0.3), 0px 1px 3px 1px rgba(60, 64, 67, 0.15);\n",
              "      fill: #174EA6;\n",
              "    }\n",
              "\n",
              "    .colab-df-buttons div {\n",
              "      margin-bottom: 4px;\n",
              "    }\n",
              "\n",
              "    [theme=dark] .colab-df-convert {\n",
              "      background-color: #3B4455;\n",
              "      fill: #D2E3FC;\n",
              "    }\n",
              "\n",
              "    [theme=dark] .colab-df-convert:hover {\n",
              "      background-color: #434B5C;\n",
              "      box-shadow: 0px 1px 3px 1px rgba(0, 0, 0, 0.15);\n",
              "      filter: drop-shadow(0px 1px 2px rgba(0, 0, 0, 0.3));\n",
              "      fill: #FFFFFF;\n",
              "    }\n",
              "  </style>\n",
              "\n",
              "    <script>\n",
              "      const buttonEl =\n",
              "        document.querySelector('#df-e893c9b1-f779-45b9-91a9-e9523e9d2044 button.colab-df-convert');\n",
              "      buttonEl.style.display =\n",
              "        google.colab.kernel.accessAllowed ? 'block' : 'none';\n",
              "\n",
              "      async function convertToInteractive(key) {\n",
              "        const element = document.querySelector('#df-e893c9b1-f779-45b9-91a9-e9523e9d2044');\n",
              "        const dataTable =\n",
              "          await google.colab.kernel.invokeFunction('convertToInteractive',\n",
              "                                                    [key], {});\n",
              "        if (!dataTable) return;\n",
              "\n",
              "        const docLinkHtml = 'Like what you see? Visit the ' +\n",
              "          '<a target=\"_blank\" href=https://colab.research.google.com/notebooks/data_table.ipynb>data table notebook</a>'\n",
              "          + ' to learn more about interactive tables.';\n",
              "        element.innerHTML = '';\n",
              "        dataTable['output_type'] = 'display_data';\n",
              "        await google.colab.output.renderOutput(dataTable, element);\n",
              "        const docLink = document.createElement('div');\n",
              "        docLink.innerHTML = docLinkHtml;\n",
              "        element.appendChild(docLink);\n",
              "      }\n",
              "    </script>\n",
              "  </div>\n",
              "\n",
              "\n",
              "<div id=\"df-b38c21dd-4ecd-4acb-862a-211371de1827\">\n",
              "  <button class=\"colab-df-quickchart\" onclick=\"quickchart('df-b38c21dd-4ecd-4acb-862a-211371de1827')\"\n",
              "            title=\"Suggest charts\"\n",
              "            style=\"display:none;\">\n",
              "\n",
              "<svg xmlns=\"http://www.w3.org/2000/svg\" height=\"24px\"viewBox=\"0 0 24 24\"\n",
              "     width=\"24px\">\n",
              "    <g>\n",
              "        <path d=\"M19 3H5c-1.1 0-2 .9-2 2v14c0 1.1.9 2 2 2h14c1.1 0 2-.9 2-2V5c0-1.1-.9-2-2-2zM9 17H7v-7h2v7zm4 0h-2V7h2v10zm4 0h-2v-4h2v4z\"/>\n",
              "    </g>\n",
              "</svg>\n",
              "  </button>\n",
              "\n",
              "<style>\n",
              "  .colab-df-quickchart {\n",
              "      --bg-color: #E8F0FE;\n",
              "      --fill-color: #1967D2;\n",
              "      --hover-bg-color: #E2EBFA;\n",
              "      --hover-fill-color: #174EA6;\n",
              "      --disabled-fill-color: #AAA;\n",
              "      --disabled-bg-color: #DDD;\n",
              "  }\n",
              "\n",
              "  [theme=dark] .colab-df-quickchart {\n",
              "      --bg-color: #3B4455;\n",
              "      --fill-color: #D2E3FC;\n",
              "      --hover-bg-color: #434B5C;\n",
              "      --hover-fill-color: #FFFFFF;\n",
              "      --disabled-bg-color: #3B4455;\n",
              "      --disabled-fill-color: #666;\n",
              "  }\n",
              "\n",
              "  .colab-df-quickchart {\n",
              "    background-color: var(--bg-color);\n",
              "    border: none;\n",
              "    border-radius: 50%;\n",
              "    cursor: pointer;\n",
              "    display: none;\n",
              "    fill: var(--fill-color);\n",
              "    height: 32px;\n",
              "    padding: 0;\n",
              "    width: 32px;\n",
              "  }\n",
              "\n",
              "  .colab-df-quickchart:hover {\n",
              "    background-color: var(--hover-bg-color);\n",
              "    box-shadow: 0 1px 2px rgba(60, 64, 67, 0.3), 0 1px 3px 1px rgba(60, 64, 67, 0.15);\n",
              "    fill: var(--button-hover-fill-color);\n",
              "  }\n",
              "\n",
              "  .colab-df-quickchart-complete:disabled,\n",
              "  .colab-df-quickchart-complete:disabled:hover {\n",
              "    background-color: var(--disabled-bg-color);\n",
              "    fill: var(--disabled-fill-color);\n",
              "    box-shadow: none;\n",
              "  }\n",
              "\n",
              "  .colab-df-spinner {\n",
              "    border: 2px solid var(--fill-color);\n",
              "    border-color: transparent;\n",
              "    border-bottom-color: var(--fill-color);\n",
              "    animation:\n",
              "      spin 1s steps(1) infinite;\n",
              "  }\n",
              "\n",
              "  @keyframes spin {\n",
              "    0% {\n",
              "      border-color: transparent;\n",
              "      border-bottom-color: var(--fill-color);\n",
              "      border-left-color: var(--fill-color);\n",
              "    }\n",
              "    20% {\n",
              "      border-color: transparent;\n",
              "      border-left-color: var(--fill-color);\n",
              "      border-top-color: var(--fill-color);\n",
              "    }\n",
              "    30% {\n",
              "      border-color: transparent;\n",
              "      border-left-color: var(--fill-color);\n",
              "      border-top-color: var(--fill-color);\n",
              "      border-right-color: var(--fill-color);\n",
              "    }\n",
              "    40% {\n",
              "      border-color: transparent;\n",
              "      border-right-color: var(--fill-color);\n",
              "      border-top-color: var(--fill-color);\n",
              "    }\n",
              "    60% {\n",
              "      border-color: transparent;\n",
              "      border-right-color: var(--fill-color);\n",
              "    }\n",
              "    80% {\n",
              "      border-color: transparent;\n",
              "      border-right-color: var(--fill-color);\n",
              "      border-bottom-color: var(--fill-color);\n",
              "    }\n",
              "    90% {\n",
              "      border-color: transparent;\n",
              "      border-bottom-color: var(--fill-color);\n",
              "    }\n",
              "  }\n",
              "</style>\n",
              "\n",
              "  <script>\n",
              "    async function quickchart(key) {\n",
              "      const quickchartButtonEl =\n",
              "        document.querySelector('#' + key + ' button');\n",
              "      quickchartButtonEl.disabled = true;  // To prevent multiple clicks.\n",
              "      quickchartButtonEl.classList.add('colab-df-spinner');\n",
              "      try {\n",
              "        const charts = await google.colab.kernel.invokeFunction(\n",
              "            'suggestCharts', [key], {});\n",
              "      } catch (error) {\n",
              "        console.error('Error during call to suggestCharts:', error);\n",
              "      }\n",
              "      quickchartButtonEl.classList.remove('colab-df-spinner');\n",
              "      quickchartButtonEl.classList.add('colab-df-quickchart-complete');\n",
              "    }\n",
              "    (() => {\n",
              "      let quickchartButtonEl =\n",
              "        document.querySelector('#df-b38c21dd-4ecd-4acb-862a-211371de1827 button');\n",
              "      quickchartButtonEl.style.display =\n",
              "        google.colab.kernel.accessAllowed ? 'block' : 'none';\n",
              "    })();\n",
              "  </script>\n",
              "</div>\n",
              "\n",
              "    </div>\n",
              "  </div>\n"
            ],
            "application/vnd.google.colaboratory.intrinsic+json": {
              "type": "dataframe",
              "variable_name": "data2",
              "summary": "{\n  \"name\": \"data2\",\n  \"rows\": 168,\n  \"fields\": [\n    {\n      \"column\": \"SAT\",\n      \"properties\": {\n        \"dtype\": \"number\",\n        \"std\": 183,\n        \"min\": 1334,\n        \"max\": 2050,\n        \"num_unique_values\": 142,\n        \"samples\": [\n          1956,\n          1855,\n          1787\n        ],\n        \"semantic_type\": \"\",\n        \"description\": \"\"\n      }\n    },\n    {\n      \"column\": \"Admitted\",\n      \"properties\": {\n        \"dtype\": \"number\",\n        \"std\": 0,\n        \"min\": 0,\n        \"max\": 1,\n        \"num_unique_values\": 2,\n        \"samples\": [\n          1,\n          0\n        ],\n        \"semantic_type\": \"\",\n        \"description\": \"\"\n      }\n    },\n    {\n      \"column\": \"Gender\",\n      \"properties\": {\n        \"dtype\": \"number\",\n        \"std\": 0,\n        \"min\": 0,\n        \"max\": 1,\n        \"num_unique_values\": 2,\n        \"samples\": [\n          1,\n          0\n        ],\n        \"semantic_type\": \"\",\n        \"description\": \"\"\n      }\n    }\n  ]\n}"
            }
          },
          "metadata": {},
          "execution_count": 110
        }
      ]
    },
    {
      "cell_type": "markdown",
      "source": [
        "Como se puede observar, ambas bases de datos tienen los mismos datos, con la unica diferencia que la de binary predictor agregar la variable __Gender__ para cada estudiante. Dado que son los mismos datos, se puede realizar en análisis descriptivo para la que tenga más variables, puesto que compartira los mismos comportamientos de la variable __SAT__. A continuación se muestran las medidas de frecuencia de los datos."
      ],
      "metadata": {
        "id": "1XXD8JiAa62P"
      }
    },
    {
      "cell_type": "code",
      "source": [
        "plt.figure(figsize=(15,3)) # determinar el tamaño de la imagen generada\n",
        "\n",
        "for i in range(0,3,1): # ciclo para graficar 5 graficos distintos\n",
        "  plt.subplot(1, 3, i+1) # indicar la posición dentro de la imagen de cada grafico\n",
        "  plt.hist(data2.iloc[:,i],rwidth = 0.85) # graficar en un histograma cada columna del DataFrame\n",
        "  plt.xlabel(data2.iloc[:,i].name, fontsize=14) # tomar el nombre de cada columna como titulo del eje horizontal\n",
        "  plt.ylabel(\"Frecuencia\", fontsize=14) # Mostrar como titulo del eje vertical la palabra \"Frecuencia\"\n",
        "\n",
        "plt.show() # mostrar el grafico final"
      ],
      "metadata": {
        "colab": {
          "base_uri": "https://localhost:8080/",
          "height": 316
        },
        "id": "Z7PNHy_ebqXR",
        "outputId": "b95c6bed-9494-47b3-bc32-2ac91d0844fc"
      },
      "execution_count": null,
      "outputs": [
        {
          "output_type": "display_data",
          "data": {
            "text/plain": [
              "<Figure size 1500x300 with 3 Axes>"
            ],
            "image/png": "[encoded data removed]"
          },
          "metadata": {}
        }
      ]
    },
    {
      "cell_type": "markdown",
      "source": [
        "A partir de estas frecuencias se puede observar que en la base de datos se encuentran más estudiantes admitidos que no admitidos, y además hay una mayor cantidad de hombres dentro de la muestra. En cuanto al SAT se puede ver una distribución parecida a una gaussiana pero de campana ancha, indicando una gran desviación estándar."
      ],
      "metadata": {
        "id": "mD8WrFJscVk-"
      }
    },
    {
      "cell_type": "markdown",
      "source": [
        "Para complementar este gráficos se puede mostrar un gráfico de distribución de las notas del SAT y probar su normalidad"
      ],
      "metadata": {
        "id": "BPEIHmBOe0Fl"
      }
    },
    {
      "cell_type": "code",
      "source": [
        "sns.displot(data2.iloc[:,0],kind =\"kde\") # Realizar un gráfico de distribución de los datos del SAT\n",
        "plt.ylabel(\"Distribución de densidad\") # Título eje vertical\n",
        "plt.title(\"Distribución de densidad\") # Título del gráfico\n",
        "plt.show() # Mostrar el gráfico"
      ],
      "metadata": {
        "colab": {
          "base_uri": "https://localhost:8080/",
          "height": 529
        },
        "id": "Jnr0hp0reWO7",
        "outputId": "04351789-9e98-441a-f6eb-02359248b814"
      },
      "execution_count": null,
      "outputs": [
        {
          "output_type": "display_data",
          "data": {
            "text/plain": [
              "<Figure size 500x500 with 1 Axes>"
            ],
            "image/png": "[encoded data removed]"
          },
          "metadata": {}
        }
      ]
    },
    {
      "cell_type": "markdown",
      "source": [
        "Si se realiza una prueba de Kolmogorov-Smirnov con $α = 0.05$ se obtiene el siguiente resultado"
      ],
      "metadata": {
        "id": "qU5fWztVfBzt"
      }
    },
    {
      "cell_type": "code",
      "source": [
        "import scipy.stats as stats\n",
        "'''\n",
        "Ho: los datos son normales\n",
        "Ha: los datos no son normales\n",
        "'''\n",
        "statistic, pvalue = stats.kstest(data2.iloc[:,0],'norm')\n",
        "statistic, pvalue"
      ],
      "metadata": {
        "colab": {
          "base_uri": "https://localhost:8080/"
        },
        "id": "lnU3-daueqdA",
        "outputId": "d58a7710-cb87-4616-bfc7-9780d106041d"
      },
      "execution_count": null,
      "outputs": [
        {
          "output_type": "execute_result",
          "data": {
            "text/plain": [
              "(1.0, 0.0)"
            ]
          },
          "metadata": {},
          "execution_count": 113
        }
      ]
    },
    {
      "cell_type": "markdown",
      "source": [
        "> Dado que el p-value es igual a 0.0, existe evidencia significativa para rechazar la hipótesis de que los datos son normales."
      ],
      "metadata": {
        "id": "QldnJ1cRf1Zd"
      }
    },
    {
      "cell_type": "markdown",
      "source": [
        "Una vez que se separen los datos se pueden comparar sus resultados del SAT cuando cambia su condición de admisión o género:"
      ],
      "metadata": {
        "id": "5_QRB1_jeDAf"
      }
    },
    {
      "cell_type": "code",
      "source": [
        "AdmitYes = data2[data2['Admitted']==1]\n",
        "AdmitNo = data2[data2['Admitted']==0]\n",
        "Male = data2[data2['Gender']==0]\n",
        "Female = data2[data2['Gender']==1]"
      ],
      "metadata": {
        "id": "DEsnlTZrdX7T"
      },
      "execution_count": null,
      "outputs": []
    },
    {
      "cell_type": "markdown",
      "source": [
        "Ahora se pueden comparar los puntajes del SAT según de acuerdo a si es admitido o no, y si es hombre o mujer:"
      ],
      "metadata": {
        "id": "5kjqnx3PhOME"
      }
    },
    {
      "cell_type": "code",
      "source": [
        "print(\"----------------------------\")\n",
        "print(data2.groupby('Admitted').describe()['SAT'].round(3))\n",
        "print(\"----------------------------\")\n",
        "print(data2.groupby('Gender').describe()['SAT'].round(3))\n",
        "print(\"----------------------------\")"
      ],
      "metadata": {
        "colab": {
          "base_uri": "https://localhost:8080/"
        },
        "id": "S8tiMaW6eLlm",
        "outputId": "b398e3cf-6526-402e-cbc7-c33e7075dfbe"
      },
      "execution_count": null,
      "outputs": [
        {
          "output_type": "stream",
          "name": "stdout",
          "text": [
            "----------------------------\n",
            "          count      mean      std     min      25%     50%     75%     max\n",
            "Admitted                                                                   \n",
            "0          74.0  1525.324   93.624  1334.0  1464.00  1525.0  1590.0  1697.0\n",
            "1          94.0  1829.064  110.426  1631.0  1743.25  1825.0  1929.5  2050.0\n",
            "----------------------------\n",
            "        count      mean      std     min      25%     50%     75%     max\n",
            "Gender                                                                   \n",
            "0        90.0  1629.933  177.857  1334.0  1486.25  1593.0  1745.0  2050.0\n",
            "1        78.0  1770.667  159.174  1393.0  1676.00  1775.0  1890.0  2041.0\n",
            "----------------------------\n"
          ]
        }
      ]
    },
    {
      "cell_type": "markdown",
      "source": [
        "De estos resultados se puede observar que  los promedios del puntaje SAT son diferentes para los que fueron o no admitidos, adicionalmente teniendo en cuenta las desviaciones estándares, máximos y mínimos se puede ver que se diferencian los datos pero existe un mínimo de traslape de puntajes. Para el caso de género se percibe una diferencia menor con el mismo análisis. Es importante notar que la distribución de los datos no es igual para cada categoría. Esto se podría observar en el siguiente diagrama de torta, aunque primero es necesario calcular las proporciones para gráficar."
      ],
      "metadata": {
        "id": "ySpmGo6xx4Cu"
      }
    },
    {
      "cell_type": "code",
      "source": [
        "Admit0 = data2.groupby('Admitted').describe()['SAT']['count'][0]/data2.groupby('Admitted').describe()['SAT']['count'].sum()\n",
        "Admit1 = data2.groupby('Admitted').describe()['SAT']['count'][1]/data2.groupby('Admitted').describe()['SAT']['count'].sum()\n",
        "Gen0 = data2.groupby('Gender').describe()['SAT']['count'][0]/data2.groupby('Gender').describe()['SAT']['count'].sum()\n",
        "Gen1 = data2.groupby('Gender').describe()['SAT']['count'][1]/data2.groupby('Gender').describe()['SAT']['count'].sum()"
      ],
      "metadata": {
        "id": "bc9xLKKO0Aci"
      },
      "execution_count": null,
      "outputs": []
    },
    {
      "cell_type": "markdown",
      "source": [
        "Una vez que se tienen los valores de de las proporciones ya se puede proceder a graficar"
      ],
      "metadata": {
        "id": "GCO42P8U3SRv"
      }
    },
    {
      "cell_type": "code",
      "source": [
        "fig, ax = plt.subplots()\n",
        "wedges, texts, autotexts = ax.pie([Admit0,Admit1], labels=[\"No admitido\",\"Admitido\"], autopct='%1.1f%%',\n",
        "                                  startangle=-40, wedgeprops=dict(width=1))\n",
        "ax.set_title('Distribución de admisiones')\n",
        "plt.show()"
      ],
      "metadata": {
        "colab": {
          "base_uri": "https://localhost:8080/",
          "height": 428
        },
        "id": "wH5VfVBdzv-U",
        "outputId": "0abb0fcc-1310-401a-fe7a-66d186801271"
      },
      "execution_count": null,
      "outputs": [
        {
          "output_type": "display_data",
          "data": {
            "text/plain": [
              "<Figure size 640x480 with 1 Axes>"
            ],
            "image/png": "[encoded data removed]"
          },
          "metadata": {}
        }
      ]
    },
    {
      "cell_type": "markdown",
      "source": [
        "Como se mencionó anteriormente se puede ver que la proporción de admitidos es mauyor a la de no admitidos.\n"
      ],
      "metadata": {
        "id": "FEzaG0tMFLMs"
      }
    },
    {
      "cell_type": "code",
      "source": [
        "fig, ax = plt.subplots()\n",
        "wedges, texts, autotexts = ax.pie([Gen0,Gen1], labels=[\"Hombre\",\"Mujer\"], autopct='%1.1f%%',\n",
        "                                  startangle=-40, wedgeprops=dict(width=1))\n",
        "ax.set_title('Distribución de género')\n",
        "plt.show()"
      ],
      "metadata": {
        "colab": {
          "base_uri": "https://localhost:8080/",
          "height": 429
        },
        "id": "0zppIpZw113b",
        "outputId": "58f1d4d6-3552-44a6-cb16-d2b848359b34"
      },
      "execution_count": null,
      "outputs": [
        {
          "output_type": "display_data",
          "data": {
            "text/plain": [
              "<Figure size 640x480 with 1 Axes>"
            ],
            "image/png": "[encoded data removed]"
          },
          "metadata": {}
        }
      ]
    },
    {
      "cell_type": "markdown",
      "source": [
        "A sí mismo se puede ver que hay más datos de hombres que de mujeres."
      ],
      "metadata": {
        "id": "qMrcFSDQFSzY"
      }
    },
    {
      "cell_type": "markdown",
      "source": [
        "Además de los gráficos de torta se pueden realizar gráficos de cajas y bigotes con la intención de ver datos atípicos, la dispersión de los datos y posibles diferencias de medianas entre los grupos de género y admitidos o no admitidos."
      ],
      "metadata": {
        "id": "FgervvyHEPs0"
      }
    },
    {
      "cell_type": "code",
      "source": [
        "plt.figure(figsize=(10,4)) # determinar tamaño de la imagen\n",
        "\n",
        "plt.subplot(1, 2, 1) # indicar la posición del diagrama\n",
        "sns.boxplot(x=\"Admitted\",y=data2.iloc[:,0].name,data=data2,hue='Admitted',legend=False) # realizar el diagrama de boxplot\n",
        "plt.ylabel(\"Puntaje SAT\") # título del eje vertical\n",
        "plt.legend\n",
        "\n",
        "plt.subplot(1, 2, 2) # indicar la posición del diagrama\n",
        "sns.boxplot(x=\"Gender\",y=data2.iloc[:,0].name,data=data2,hue='Gender',legend=False) # realizar el diagrama de boxplot\n",
        "plt.ylabel(\"Puntaje SAT\") # título del eje vertical\n",
        "\n",
        "plt.show() # mostrar el gráfico"
      ],
      "metadata": {
        "colab": {
          "base_uri": "https://localhost:8080/",
          "height": 388
        },
        "id": "IZv1bbJDqkTJ",
        "outputId": "e400182a-9ca2-426d-a951-17604684e3a4"
      },
      "execution_count": null,
      "outputs": [
        {
          "output_type": "display_data",
          "data": {
            "text/plain": [
              "<Figure size 1000x400 with 2 Axes>"
            ],
            "image/png": "[encoded data removed]"
          },
          "metadata": {}
        }
      ]
    },
    {
      "cell_type": "markdown",
      "source": [
        "Como se puede observar, los puntajes del SAT, a simple vista, son diferentes para estudiantes admitidos y no admitidos, y entre hombres y mujeres. Vale la pena recordar la notación:  \n",
        "\n",
        "* Admitido (1) y no admitido (0)\n",
        "* Hombre (0) y Mujer (1)\n",
        "\n",
        "Para confirmar si las diferencias del puntaje promedio para las personas de distintos géneros y admisión, es necesario realizar una comparación de medias como se muestra a continuación:"
      ],
      "metadata": {
        "id": "6pGOJXUAjN3q"
      }
    },
    {
      "cell_type": "code",
      "source": [
        "from scipy import stats\n",
        "\"\"\"\n",
        "H0: las medias de los puntajes obtenidos en el SAT son iguales entre hombres y mujeres que fueron o no admitidos.\n",
        "H1: hay diferencia entre las medias de hombres y mujeres en el SAT que fueron o no admitidos.\n",
        "\"\"\"\n",
        "statistic, pvalue1 = stats.ttest_ind(AdmitYes.iloc[:,0], AdmitNo.iloc[:,0], equal_var=False)\n",
        "statistic, pvalue2 = stats.ttest_ind(Male.iloc[:,0], Female.iloc[:,0], equal_var=False)\n",
        "print(\"Admitidos vs. No amditidos : p-value =\",pvalue1)\n",
        "print(\"Hombres vs. Mujeres : p-value =\",pvalue2)"
      ],
      "metadata": {
        "colab": {
          "base_uri": "https://localhost:8080/"
        },
        "id": "92mYSSw4sx-9",
        "outputId": "c38d4dbc-545a-4a60-b8b9-e2e9ebd4794c"
      },
      "execution_count": null,
      "outputs": [
        {
          "output_type": "stream",
          "name": "stdout",
          "text": [
            "Admitidos vs. No amditidos : p-value = 3.9978207533544187e-44\n",
            "Hombres vs. Mujeres : p-value = 2.1553254453523288e-07\n"
          ]
        }
      ]
    },
    {
      "cell_type": "markdown",
      "source": [
        "Se puede observar que hay evidencia suficiente para rechazar el la hipótesis nula, por lo tanto los promedios del puntaje SAT son significativamente diferente para hombres y mujeres, que fueron o no admitidos."
      ],
      "metadata": {
        "id": "4pzb4mt-xW-e"
      }
    },
    {
      "cell_type": "markdown",
      "source": [
        "### Conclusión\n",
        "Se pudo observar que la calificación promedio del SAT de los estudiantes en promedio es significativamente diferente para quienes fueron admitidos y no, y entre hombres y mujeres. Se pudo observar que aunque la proporción de los datos para cada categoría (Admisión y género) es diferente, no presentan diferencias extremas que puedan representar sesgos por desproporcionalidad de representación de cada categoría de estudiante."
      ],
      "metadata": {
        "id": "hMQM1faR3fTD"
      }
    },
    {
      "cell_type": "markdown",
      "source": [
        "## Modelo de regresión logística"
      ],
      "metadata": {
        "id": "eJCCIRuGaLgl"
      }
    },
    {
      "cell_type": "markdown",
      "source": [
        "\n",
        "Dado que se tiene la base de datos Admittance y binary predictors, se puede realizar dos modelos difererentes que posteriormente se puedan comparar entre sí"
      ],
      "metadata": {
        "id": "xqM_x6kpdwHY"
      }
    },
    {
      "cell_type": "code",
      "source": [
        "X1 = data1[['SAT']]\n",
        "y1 = data1['Admitted']"
      ],
      "metadata": {
        "id": "GzzpOTuqXmsq"
      },
      "execution_count": null,
      "outputs": []
    },
    {
      "cell_type": "code",
      "source": [
        "from sklearn.preprocessing import StandardScaler\n",
        "sc = StandardScaler()\n",
        "sc.fit(X1)\n",
        "X1_std = sc.transform(X1)"
      ],
      "metadata": {
        "id": "ZSfSIIBCYvwE"
      },
      "execution_count": null,
      "outputs": []
    },
    {
      "cell_type": "code",
      "source": [
        "from sklearn.model_selection import train_test_split\n",
        "X1_train, X1_test, y1_train, y1_test = train_test_split(\n",
        "  X1_std, y1, test_size=0.3, random_state=42)"
      ],
      "metadata": {
        "id": "y-66vO-5TwLn"
      },
      "execution_count": null,
      "outputs": []
    },
    {
      "cell_type": "code",
      "source": [
        "X1_combined_std = np.vstack((X1_train, X1_test))\n",
        "y1_combined = np.hstack((y1_train, y1_test))"
      ],
      "metadata": {
        "id": "MoiVEUdjZ3b-"
      },
      "execution_count": null,
      "outputs": []
    },
    {
      "cell_type": "code",
      "source": [
        "from sklearn.linear_model import LogisticRegression\n",
        "lr1 = LogisticRegression(C=100.0, solver='lbfgs')\n",
        "lr1.fit(X1_train, y1_train)"
      ],
      "metadata": {
        "id": "PZocbbiwEUH-",
        "colab": {
          "base_uri": "https://localhost:8080/",
          "height": 75
        },
        "outputId": "03d45c07-5cc3-4173-bf8c-1840f996b072"
      },
      "execution_count": null,
      "outputs": [
        {
          "output_type": "execute_result",
          "data": {
            "text/plain": [
              "LogisticRegression(C=100.0)"
            ],
            "text/html": [
              "<style>#sk-container-id-3 {color: black;background-color: white;}#sk-container-id-3 pre{padding: 0;}#sk-container-id-3 div.sk-toggleable {background-color: white;}#sk-container-id-3 label.sk-toggleable__label {cursor: pointer;display: block;width: 100%;margin-bottom: 0;padding: 0.3em;box-sizing: border-box;text-align: center;}#sk-container-id-3 label.sk-toggleable__label-arrow:before {content: \"▸\";float: left;margin-right: 0.25em;color: #696969;}#sk-container-id-3 label.sk-toggleable__label-arrow:hover:before {color: black;}#sk-container-id-3 div.sk-estimator:hover label.sk-toggleable__label-arrow:before {color: black;}#sk-container-id-3 div.sk-toggleable__content {max-height: 0;max-width: 0;overflow: hidden;text-align: left;background-color: #f0f8ff;}#sk-container-id-3 div.sk-toggleable__content pre {margin: 0.2em;color: black;border-radius: 0.25em;background-color: #f0f8ff;}#sk-container-id-3 input.sk-toggleable__control:checked~div.sk-toggleable__content {max-height: 200px;max-width: 100%;overflow: auto;}#sk-container-id-3 input.sk-toggleable__control:checked~label.sk-toggleable__label-arrow:before {content: \"▾\";}#sk-container-id-3 div.sk-estimator input.sk-toggleable__control:checked~label.sk-toggleable__label {background-color: #d4ebff;}#sk-container-id-3 div.sk-label input.sk-toggleable__control:checked~label.sk-toggleable__label {background-color: #d4ebff;}#sk-container-id-3 input.sk-hidden--visually {border: 0;clip: rect(1px 1px 1px 1px);clip: rect(1px, 1px, 1px, 1px);height: 1px;margin: -1px;overflow: hidden;padding: 0;position: absolute;width: 1px;}#sk-container-id-3 div.sk-estimator {font-family: monospace;background-color: #f0f8ff;border: 1px dotted black;border-radius: 0.25em;box-sizing: border-box;margin-bottom: 0.5em;}#sk-container-id-3 div.sk-estimator:hover {background-color: #d4ebff;}#sk-container-id-3 div.sk-parallel-item::after {content: \"\";width: 100%;border-bottom: 1px solid gray;flex-grow: 1;}#sk-container-id-3 div.sk-label:hover label.sk-toggleable__label {background-color: #d4ebff;}#sk-container-id-3 div.sk-serial::before {content: \"\";position: absolute;border-left: 1px solid gray;box-sizing: border-box;top: 0;bottom: 0;left: 50%;z-index: 0;}#sk-container-id-3 div.sk-serial {display: flex;flex-direction: column;align-items: center;background-color: white;padding-right: 0.2em;padding-left: 0.2em;position: relative;}#sk-container-id-3 div.sk-item {position: relative;z-index: 1;}#sk-container-id-3 div.sk-parallel {display: flex;align-items: stretch;justify-content: center;background-color: white;position: relative;}#sk-container-id-3 div.sk-item::before, #sk-container-id-3 div.sk-parallel-item::before {content: \"\";position: absolute;border-left: 1px solid gray;box-sizing: border-box;top: 0;bottom: 0;left: 50%;z-index: -1;}#sk-container-id-3 div.sk-parallel-item {display: flex;flex-direction: column;z-index: 1;position: relative;background-color: white;}#sk-container-id-3 div.sk-parallel-item:first-child::after {align-self: flex-end;width: 50%;}#sk-container-id-3 div.sk-parallel-item:last-child::after {align-self: flex-start;width: 50%;}#sk-container-id-3 div.sk-parallel-item:only-child::after {width: 0;}#sk-container-id-3 div.sk-dashed-wrapped {border: 1px dashed gray;margin: 0 0.4em 0.5em 0.4em;box-sizing: border-box;padding-bottom: 0.4em;background-color: white;}#sk-container-id-3 div.sk-label label {font-family: monospace;font-weight: bold;display: inline-block;line-height: 1.2em;}#sk-container-id-3 div.sk-label-container {text-align: center;}#sk-container-id-3 div.sk-container {/* jupyter's `normalize.less` sets `[hidden] { display: none; }` but bootstrap.min.css set `[hidden] { display: none !important; }` so we also need the `!important` here to be able to override the default hidden behavior on the sphinx rendered scikit-learn.org. See: https://github.com/scikit-learn/scikit-learn/issues/21755 */display: inline-block !important;position: relative;}#sk-container-id-3 div.sk-text-repr-fallback {display: none;}</style><div id=\"sk-container-id-3\" class=\"sk-top-container\"><div class=\"sk-text-repr-fallback\"><pre>LogisticRegression(C=100.0)</pre><b>In a Jupyter environment, please rerun this cell to show the HTML representation or trust the notebook. <br />On GitHub, the HTML representation is unable to render, please try loading this page with nbviewer.org.</b></div><div class=\"sk-container\" hidden><div class=\"sk-item\"><div class=\"sk-estimator sk-toggleable\"><input class=\"sk-toggleable__control sk-hidden--visually\" id=\"sk-estimator-id-3\" type=\"checkbox\" checked><label for=\"sk-estimator-id-3\" class=\"sk-toggleable__label sk-toggleable__label-arrow\">LogisticRegression</label><div class=\"sk-toggleable__content\"><pre>LogisticRegression(C=100.0)</pre></div></div></div></div></div>"
            ]
          },
          "metadata": {},
          "execution_count": 125
        }
      ]
    },
    {
      "cell_type": "code",
      "source": [
        "lr1.predict_proba(X1_test[:3, :])"
      ],
      "metadata": {
        "id": "U6IcJlEHZ3Xi",
        "colab": {
          "base_uri": "https://localhost:8080/"
        },
        "outputId": "330ca420-ed8a-4020-81aa-326c139bdeb6"
      },
      "execution_count": null,
      "outputs": [
        {
          "output_type": "execute_result",
          "data": {
            "text/plain": [
              "array([[9.18040419e-01, 8.19595806e-02],\n",
              "       [9.99781999e-01, 2.18001461e-04],\n",
              "       [3.43197138e-04, 9.99656803e-01]])"
            ]
          },
          "metadata": {},
          "execution_count": 126
        }
      ]
    },
    {
      "cell_type": "code",
      "source": [
        " lr1.predict_proba(X1_test[:3, :]).sum(axis=1)"
      ],
      "metadata": {
        "id": "mc5ygAFFAV3Z",
        "colab": {
          "base_uri": "https://localhost:8080/"
        },
        "outputId": "8bd8fff5-dfb6-4b5b-a376-3787f8967989"
      },
      "execution_count": null,
      "outputs": [
        {
          "output_type": "execute_result",
          "data": {
            "text/plain": [
              "array([1., 1., 1.])"
            ]
          },
          "metadata": {},
          "execution_count": 127
        }
      ]
    },
    {
      "cell_type": "code",
      "source": [
        "lr1.predict_proba(X1_test[:3, :]).argmax(axis=1)\n",
        "lr1.predict(X1_test[:3, :])"
      ],
      "metadata": {
        "id": "cYeXC023Achk",
        "colab": {
          "base_uri": "https://localhost:8080/"
        },
        "outputId": "4663861f-3e07-4172-9b34-9bd8b81d28b2"
      },
      "execution_count": null,
      "outputs": [
        {
          "output_type": "execute_result",
          "data": {
            "text/plain": [
              "array([0, 0, 1])"
            ]
          },
          "metadata": {},
          "execution_count": 128
        }
      ]
    },
    {
      "cell_type": "code",
      "source": [
        "from sklearn.metrics import confusion_matrix\n",
        "lr1.fit(X1_train, y1_train)\n",
        "y1_pred = lr1.predict(X1_test)\n",
        "confmat1 = confusion_matrix(y_true=y1_test, y_pred=y1_pred)\n",
        "print(confmat1)"
      ],
      "metadata": {
        "id": "7DqsYnEIB4RG",
        "colab": {
          "base_uri": "https://localhost:8080/"
        },
        "outputId": "3b37539e-d982-4f8e-df1d-5d56d10ac6fd"
      },
      "execution_count": null,
      "outputs": [
        {
          "output_type": "stream",
          "name": "stdout",
          "text": [
            "[[22  2]\n",
            " [ 3 24]]\n"
          ]
        }
      ]
    },
    {
      "cell_type": "code",
      "source": [
        "fig, ax = plt.subplots(figsize=(2.5, 2.5))\n",
        "ax.matshow(confmat1, cmap=plt.cm.Blues, alpha=0.3)\n",
        "for i in range(confmat1.shape[0]):\n",
        "  for j in range(confmat1.shape[1]):\n",
        "    ax.text(x=j, y=i, s=confmat1[i, j], va='center', ha='center')\n",
        "    ax.xaxis.set_ticks_position('bottom')\n",
        "plt.xlabel('Predicted label')\n",
        "plt.ylabel('True label')\n",
        "plt.tight_layout()\n",
        "#plt.savefig('figures/06_09.png', dpi=300)\n",
        "plt.show()"
      ],
      "metadata": {
        "id": "i8lwQw7hI6FJ",
        "colab": {
          "base_uri": "https://localhost:8080/",
          "height": 257
        },
        "outputId": "6675d842-d182-4149-836e-9c745b44da70"
      },
      "execution_count": null,
      "outputs": [
        {
          "output_type": "display_data",
          "data": {
            "text/plain": [
              "<Figure size 250x250 with 1 Axes>"
            ],
            "image/png": "[encoded data removed]"
          },
          "metadata": {}
        }
      ]
    },
    {
      "cell_type": "code",
      "source": [
        "from sklearn.metrics import classification_report\n",
        "print(classification_report(y_true=y1_test, y_pred=y1_pred))"
      ],
      "metadata": {
        "id": "48b1mhdrJMaK",
        "colab": {
          "base_uri": "https://localhost:8080/"
        },
        "outputId": "15287a1e-ba96-439d-f949-38d6f8edc958"
      },
      "execution_count": null,
      "outputs": [
        {
          "output_type": "stream",
          "name": "stdout",
          "text": [
            "              precision    recall  f1-score   support\n",
            "\n",
            "           0       0.88      0.92      0.90        24\n",
            "           1       0.92      0.89      0.91        27\n",
            "\n",
            "    accuracy                           0.90        51\n",
            "   macro avg       0.90      0.90      0.90        51\n",
            "weighted avg       0.90      0.90      0.90        51\n",
            "\n"
          ]
        }
      ]
    },
    {
      "cell_type": "code",
      "source": [
        "accuracy1 = accuracy_score(y1_test, y1_pred)\n",
        "print(\"Precisión: \")\n",
        "accuracy1.round(3)"
      ],
      "metadata": {
        "colab": {
          "base_uri": "https://localhost:8080/"
        },
        "id": "3Rc-qjRab55m",
        "outputId": "17edb76c-466b-422d-a60d-6a94267f4402"
      },
      "execution_count": null,
      "outputs": [
        {
          "output_type": "stream",
          "name": "stdout",
          "text": [
            "Precisión: \n"
          ]
        },
        {
          "output_type": "execute_result",
          "data": {
            "text/plain": [
              "0.902"
            ]
          },
          "metadata": {},
          "execution_count": 132
        }
      ]
    },
    {
      "cell_type": "markdown",
      "source": [
        "La accuracy es de 0.902 que es cercano a 1 por lo cual es un modelo bueno es la proporción de lo califico bien, los verdaderos positivos y los verdaderos negativos sobre el total de datos."
      ],
      "metadata": {
        "id": "R7ZImH4noiPL"
      }
    },
    {
      "cell_type": "code",
      "source": [
        "recall1 = recall_score(y1_test, y1_pred)\n",
        "print(\"Exahustividad: \")\n",
        "recall1.round(3)"
      ],
      "metadata": {
        "id": "9ryWBSZpdkvg",
        "colab": {
          "base_uri": "https://localhost:8080/"
        },
        "outputId": "fadaba1f-afa9-41c8-cb3f-9819d85bae86"
      },
      "execution_count": null,
      "outputs": [
        {
          "output_type": "stream",
          "name": "stdout",
          "text": [
            "Exahustividad: \n"
          ]
        },
        {
          "output_type": "execute_result",
          "data": {
            "text/plain": [
              "0.889"
            ]
          },
          "metadata": {},
          "execution_count": 170
        }
      ]
    },
    {
      "cell_type": "markdown",
      "source": [
        "La exahustividad es lo mismo que el FPR es decir la tasa de de los verdaderos positivos con respecto a todos lo que realmente si eran positivos. Por esta razón se espera q"
      ],
      "metadata": {
        "id": "nlzc3dl4o3nF"
      }
    },
    {
      "cell_type": "code",
      "source": [
        "\n",
        "f1score1 = f1_score(y1_test, y1_pred)\n",
        "print(\"F1 score: \")\n",
        "f1score1.round(3)"
      ],
      "metadata": {
        "colab": {
          "base_uri": "https://localhost:8080/"
        },
        "id": "gZo4vJwVeuKN",
        "outputId": "074d85a5-26d8-4c63-f21d-1b2d3663b384"
      },
      "execution_count": null,
      "outputs": [
        {
          "output_type": "stream",
          "name": "stdout",
          "text": [
            "F1 score: \n"
          ]
        },
        {
          "output_type": "execute_result",
          "data": {
            "text/plain": [
              "0.906"
            ]
          },
          "metadata": {},
          "execution_count": 169
        }
      ]
    },
    {
      "cell_type": "code",
      "source": [
        "error1 = (confmat1[1,0]+confmat1[0,1])/(confmat1[:,:].sum())\n",
        "accu1 = 1-error1\n",
        "\n",
        "print(\"Error: \"+str(error1.round(3))+\"\\n\"+\"Accuracy:\"+str(accu1.round(3)))"
      ],
      "metadata": {
        "id": "kvyp64w7JbEl",
        "colab": {
          "base_uri": "https://localhost:8080/"
        },
        "outputId": "a9697bdb-eddf-41f0-b342-01222213afba"
      },
      "execution_count": null,
      "outputs": [
        {
          "output_type": "stream",
          "name": "stdout",
          "text": [
            "Error: 0.098\n",
            "Accuracy:0.902\n"
          ]
        }
      ]
    },
    {
      "cell_type": "code",
      "source": [
        "mcc1 = matthews_corrcoef(y1_test, y1_pred)\n",
        "print(\"coeficiente de correlación de matthews: \")\n",
        "mcc1.round(3)"
      ],
      "metadata": {
        "colab": {
          "base_uri": "https://localhost:8080/"
        },
        "id": "eqm9Y7IPfF1b",
        "outputId": "ddfbb97c-c947-4c20-cd75-02f16419a8d3"
      },
      "execution_count": null,
      "outputs": [
        {
          "output_type": "stream",
          "name": "stdout",
          "text": [
            "coeficiente de correlación de matthews: \n"
          ]
        },
        {
          "output_type": "execute_result",
          "data": {
            "text/plain": [
              "0.804"
            ]
          },
          "metadata": {},
          "execution_count": 136
        }
      ]
    },
    {
      "cell_type": "code",
      "source": [
        "tpr1 = confmat1[0,0]/(confmat1[0,:].sum())\n",
        "tpr1.round(4)"
      ],
      "metadata": {
        "id": "D8yQ-WRoJx9v",
        "colab": {
          "base_uri": "https://localhost:8080/"
        },
        "outputId": "5cd75bed-6898-475a-9833-9b86791c6657"
      },
      "execution_count": null,
      "outputs": [
        {
          "output_type": "execute_result",
          "data": {
            "text/plain": [
              "0.9167"
            ]
          },
          "metadata": {},
          "execution_count": 137
        }
      ]
    },
    {
      "cell_type": "code",
      "source": [
        "fpr1 = confmat1[1,0]/(confmat1[1,:].sum())\n",
        "fpr1.round(4)"
      ],
      "metadata": {
        "id": "VwhmshqUJoL3",
        "colab": {
          "base_uri": "https://localhost:8080/"
        },
        "outputId": "accea051-070a-4a01-d5ec-cba648d42594"
      },
      "execution_count": null,
      "outputs": [
        {
          "output_type": "execute_result",
          "data": {
            "text/plain": [
              "0.1111"
            ]
          },
          "metadata": {},
          "execution_count": 138
        }
      ]
    },
    {
      "cell_type": "code",
      "source": [
        "PRE1 = confmat1[0,0]/confmat1[:,0].sum()\n",
        "PRE1.round(3)\n"
      ],
      "metadata": {
        "colab": {
          "base_uri": "https://localhost:8080/"
        },
        "id": "7yFpym1J9PY9",
        "outputId": "8530b2dd-558e-4009-8190-069401fead39"
      },
      "execution_count": null,
      "outputs": [
        {
          "output_type": "execute_result",
          "data": {
            "text/plain": [
              "0.88"
            ]
          },
          "metadata": {},
          "execution_count": 139
        }
      ]
    },
    {
      "cell_type": "code",
      "source": [
        "#define metrics\n",
        "y1_pred_proba = lr1.predict_proba(X1_test)[::,1]\n",
        "fpr1, tpr1, _ = metrics.roc_curve(y1_test,  y1_pred_proba)\n",
        "auc1 = metrics.roc_auc_score(y1_test, y1_pred_proba)\n",
        "#create ROC curve\n",
        "plt.plot(fpr1,tpr1,label=\"AUC=\"+str(auc1.round(3)))\n",
        "plt.ylabel('True Positive Rate')\n",
        "plt.xlabel('False Positive Rate')\n",
        "plt.legend(loc=4)\n",
        "plt.show()"
      ],
      "metadata": {
        "colab": {
          "base_uri": "https://localhost:8080/",
          "height": 449
        },
        "id": "r0rVeRRYP4a8",
        "outputId": "f91f7afc-ee13-496c-9bcc-cd6b4adfd541"
      },
      "execution_count": null,
      "outputs": [
        {
          "output_type": "display_data",
          "data": {
            "text/plain": [
              "<Figure size 640x480 with 1 Axes>"
            ],
            "image/png": "[encoded data removed]"
          },
          "metadata": {}
        }
      ]
    },
    {
      "cell_type": "markdown",
      "source": [
        "###Modelo de Regresión Logística Base de datos de admitidos según puntaje de SAT y género."
      ],
      "metadata": {
        "id": "VqmJgS2oAMtZ"
      }
    },
    {
      "cell_type": "code",
      "source": [
        "X2 = data2.iloc[:,[0,2]]\n",
        "y2 = data2.iloc[:,1]"
      ],
      "metadata": {
        "id": "rGLG2pkgSY_K"
      },
      "execution_count": null,
      "outputs": []
    },
    {
      "cell_type": "code",
      "source": [
        "from sklearn.linear_model import LogisticRegression\n",
        "lr2 = LogisticRegression(C=100.0, solver='lbfgs', multi_class='ovr')\n",
        "\n",
        "from sklearn.model_selection import train_test_split\n",
        "X2_train, X2_test, y2_train, y2_test = train_test_split(X2, y2, test_size=0.3, random_state=42)\n",
        "\n",
        "from sklearn.preprocessing import StandardScaler\n",
        "sc = StandardScaler()\n",
        "sc.fit(X2_train)\n",
        "X2_train_std = sc.transform(X2_train)\n",
        "X2_test_std = sc.transform(X2_test)\n"
      ],
      "metadata": {
        "id": "XDtWbyZrHX_C"
      },
      "execution_count": null,
      "outputs": []
    },
    {
      "cell_type": "code",
      "source": [
        "from matplotlib.colors import ListedColormap\n",
        "import matplotlib.pyplot as plt\n",
        "# To check recent matplotlib compatibility\n",
        "import matplotlib\n",
        "from distutils.version import LooseVersion\n",
        "def plot_decision_regions(X, y, classifier, test_idx=None, resolution=0.02):\n",
        "  # setup marker generator and color map\n",
        "  markers = ('o', 's', '^', 'v', '<')\n",
        "  colors = ('red', 'blue', 'lightgreen', 'gray', 'cyan')\n",
        "  cmap = ListedColormap(colors[:len(np.unique(y))])\n",
        "  # plot the decision surface\n",
        "  x1_min, x1_max = X[:, 0].min() - 1, X[:, 0].max() + 1\n",
        "  x2_min, x2_max = X[:, 1].min() - 1, X[:, 1].max() + 1\n",
        "  xx1, xx2 = np.meshgrid(np.arange(x1_min, x1_max, resolution),\n",
        "  np.arange(x2_min, x2_max, resolution))\n",
        "  lab = classifier.predict(np.array([xx1.ravel(), xx2.ravel()]).T)\n",
        "  lab = lab.reshape(xx1.shape)\n",
        "  plt.contourf(xx1, xx2, lab, alpha=0.3, cmap=cmap)\n",
        "  plt.xlim(xx1.min(), xx1.max())\n",
        "  plt.ylim(xx2.min(), xx2.max())\n",
        "  # plot class examples\n",
        "  for idx, cl in enumerate(np.unique(y)):\n",
        "    plt.scatter(x=X[y == cl, 0], y=X[y == cl, 1], alpha=0.8, c=colors[idx], marker=markers[idx], label=f'Class {cl}', edgecolor='black')\n",
        "  # highlight test examples\n",
        "  if test_idx:\n",
        "    # plot all examples\n",
        "    X_test, y_test = X[test_idx, :], y[test_idx]\n",
        "    plt.scatter(X_test[:, 0], X_test[:, 1], c='none', edgecolor='black', alpha=1.0, linewidth=1, marker='o', s=100, label='Test set')\n"
      ],
      "metadata": {
        "id": "-3lijTMMHX_o"
      },
      "execution_count": null,
      "outputs": []
    },
    {
      "cell_type": "code",
      "source": [
        "X2_combined_std = np.vstack((X2_train_std, X2_test_std))\n",
        "y2_combined = np.hstack((y2_train, y2_test))"
      ],
      "metadata": {
        "id": "52sKQ6fOHX_p"
      },
      "execution_count": null,
      "outputs": []
    },
    {
      "cell_type": "code",
      "source": [
        "from sklearn.linear_model import LogisticRegression\n",
        "lr2 = LogisticRegression(C=100.0, solver='lbfgs', multi_class='ovr')\n",
        "lr2.fit(X2_train_std, y2_train)\n",
        "plot_decision_regions(X2_combined_std, y2_combined, classifier=lr2, test_idx=range(105, 150))\n",
        "plt.xlabel('SAT[standardized]')\n",
        "plt.ylabel('Genero [standardized]')\n",
        "plt.legend(loc='upper left')\n",
        "plt.tight_layout()\n",
        "#plt.savefig('figures/03_06.png', dpi=300)\n",
        "plt.show()\n"
      ],
      "metadata": {
        "id": "A-VqhxKhHX_t",
        "colab": {
          "base_uri": "https://localhost:8080/",
          "height": 487
        },
        "outputId": "87eab900-6990-47a6-b7b4-f263d98f03ef"
      },
      "execution_count": null,
      "outputs": [
        {
          "output_type": "display_data",
          "data": {
            "text/plain": [
              "<Figure size 640x480 with 1 Axes>"
            ],
            "image/png": "[encoded data removed]"
          },
          "metadata": {}
        }
      ]
    },
    {
      "cell_type": "code",
      "source": [
        "lr2.predict_proba(X2_test_std[:3, :])"
      ],
      "metadata": {
        "id": "8wFl_LPeHX_u",
        "colab": {
          "base_uri": "https://localhost:8080/"
        },
        "outputId": "367d7e26-e0f8-45a3-85fb-38b305758897"
      },
      "execution_count": null,
      "outputs": [
        {
          "output_type": "execute_result",
          "data": {
            "text/plain": [
              "array([[9.37858370e-01, 6.21416304e-02],\n",
              "       [9.99777428e-01, 2.22571919e-04],\n",
              "       [2.46323902e-04, 9.99753676e-01]])"
            ]
          },
          "metadata": {},
          "execution_count": 146
        }
      ]
    },
    {
      "cell_type": "code",
      "source": [
        " lr2.predict_proba(X2_test_std[:3, :]).sum(axis=1)"
      ],
      "metadata": {
        "id": "ZuXqA_8YHX_w",
        "colab": {
          "base_uri": "https://localhost:8080/"
        },
        "outputId": "3443b56c-de02-4575-9aca-30605ff350c9"
      },
      "execution_count": null,
      "outputs": [
        {
          "output_type": "execute_result",
          "data": {
            "text/plain": [
              "array([1., 1., 1.])"
            ]
          },
          "metadata": {},
          "execution_count": 147
        }
      ]
    },
    {
      "cell_type": "code",
      "source": [
        "lr2.predict_proba(X2_test_std[:3, :]).argmax(axis=1)\n",
        "lr2.predict(X2_test_std[:3, :])"
      ],
      "metadata": {
        "id": "d0Q4Z0r9HX_x",
        "colab": {
          "base_uri": "https://localhost:8080/"
        },
        "outputId": "fd8dbceb-801e-408b-c720-789f9ee48d2c"
      },
      "execution_count": null,
      "outputs": [
        {
          "output_type": "execute_result",
          "data": {
            "text/plain": [
              "array([0, 0, 1])"
            ]
          },
          "metadata": {},
          "execution_count": 148
        }
      ]
    },
    {
      "cell_type": "code",
      "source": [
        "from sklearn.metrics import confusion_matrix\n",
        "lr2.fit(X2_train, y2_train)\n",
        "y2_pred = lr2.predict(X2_test)\n",
        "confmat2 = confusion_matrix(y_true=y2_test, y_pred=y2_pred)\n",
        "print(confmat2)\n"
      ],
      "metadata": {
        "id": "CTrEv7F9HX_z",
        "colab": {
          "base_uri": "https://localhost:8080/"
        },
        "outputId": "bc22d2f2-1d7e-46e9-e7c9-84f4d3735ee7"
      },
      "execution_count": null,
      "outputs": [
        {
          "output_type": "stream",
          "name": "stdout",
          "text": [
            "[[23  1]\n",
            " [ 2 25]]\n"
          ]
        }
      ]
    },
    {
      "cell_type": "code",
      "source": [
        "fig, ax = plt.subplots(figsize=(2.5, 2.5))\n",
        "ax.matshow(confmat2, cmap=plt.cm.Blues, alpha=0.3)\n",
        "for i in range(confmat2.shape[0]):\n",
        "  for j in range(confmat2.shape[1]):\n",
        "    ax.text(x=j, y=i, s=confmat2[i, j], va='center', ha='center')\n",
        "    ax.xaxis.set_ticks_position('bottom')\n",
        "plt.xlabel('Predicted label')\n",
        "plt.ylabel('True label')\n",
        "plt.tight_layout()\n",
        "#plt.savefig('figures/06_09.png', dpi=300)\n",
        "plt.show()\n"
      ],
      "metadata": {
        "id": "Ff0-YAFTHX_0",
        "colab": {
          "base_uri": "https://localhost:8080/",
          "height": 257
        },
        "outputId": "af208478-bff2-4e63-a21f-f69420924183"
      },
      "execution_count": null,
      "outputs": [
        {
          "output_type": "display_data",
          "data": {
            "text/plain": [
              "<Figure size 250x250 with 1 Axes>"
            ],
            "image/png": "[encoded data removed]"
          },
          "metadata": {}
        }
      ]
    },
    {
      "cell_type": "code",
      "source": [
        "from sklearn.metrics import classification_report\n",
        "print(classification_report(y_true=y2_test, y_pred=y2_pred))"
      ],
      "metadata": {
        "id": "uaohCNjWHX_1",
        "colab": {
          "base_uri": "https://localhost:8080/"
        },
        "outputId": "7c88fb39-423c-4dbb-83f7-87842e44cb8a"
      },
      "execution_count": null,
      "outputs": [
        {
          "output_type": "stream",
          "name": "stdout",
          "text": [
            "              precision    recall  f1-score   support\n",
            "\n",
            "           0       0.92      0.96      0.94        24\n",
            "           1       0.96      0.93      0.94        27\n",
            "\n",
            "    accuracy                           0.94        51\n",
            "   macro avg       0.94      0.94      0.94        51\n",
            "weighted avg       0.94      0.94      0.94        51\n",
            "\n"
          ]
        }
      ]
    },
    {
      "cell_type": "code",
      "source": [
        "error2 = (confmat2[1,0]+confmat2[0,1])/(confmat2[:,:].sum())\n",
        "accu2 = 1-error2\n",
        "\n",
        "print(\"Error: \"+str(error2.round(3))+\"\\n\"+\"Accuracy:\"+str(accu2.round(3)))"
      ],
      "metadata": {
        "id": "A0vcBZtLHX_2",
        "colab": {
          "base_uri": "https://localhost:8080/"
        },
        "outputId": "2880d181-d01a-4514-e393-08a2077061f1"
      },
      "execution_count": null,
      "outputs": [
        {
          "output_type": "stream",
          "name": "stdout",
          "text": [
            "Error: 0.059\n",
            "Accuracy:0.941\n"
          ]
        }
      ]
    },
    {
      "cell_type": "code",
      "source": [
        "fpr2 = confmat2[1,0]/(confmat2[0,:].sum())\n",
        "fpr2.round(4)"
      ],
      "metadata": {
        "id": "3cF7Y1x5HX_3",
        "colab": {
          "base_uri": "https://localhost:8080/"
        },
        "outputId": "453574dd-ac5e-4a80-876d-f3f7e2b9ebd5"
      },
      "execution_count": null,
      "outputs": [
        {
          "output_type": "execute_result",
          "data": {
            "text/plain": [
              "0.0833"
            ]
          },
          "metadata": {},
          "execution_count": 153
        }
      ]
    },
    {
      "cell_type": "code",
      "source": [
        "tpr2 = confmat2[1,1]/(confmat2[1,:].sum())\n",
        "tpr2.round(4)"
      ],
      "metadata": {
        "id": "q_38SFKNHX_4",
        "colab": {
          "base_uri": "https://localhost:8080/"
        },
        "outputId": "3813b65e-4333-449b-8671-c32458ba2958"
      },
      "execution_count": null,
      "outputs": [
        {
          "output_type": "execute_result",
          "data": {
            "text/plain": [
              "0.9259"
            ]
          },
          "metadata": {},
          "execution_count": 154
        }
      ]
    },
    {
      "cell_type": "code",
      "source": [
        "PRE2 = confmat2[0,0]/confmat2[:,0].sum()\n",
        "print(\"Exactitud:\")\n",
        "PRE2.round(3)"
      ],
      "metadata": {
        "colab": {
          "base_uri": "https://localhost:8080/"
        },
        "id": "8kyhs8W4hd_3",
        "outputId": "7322803c-50e3-40ed-f741-13145f0aa841"
      },
      "execution_count": null,
      "outputs": [
        {
          "output_type": "stream",
          "name": "stdout",
          "text": [
            "Exactitud:\n"
          ]
        },
        {
          "output_type": "execute_result",
          "data": {
            "text/plain": [
              "0.92"
            ]
          },
          "metadata": {},
          "execution_count": 155
        }
      ]
    },
    {
      "cell_type": "code",
      "source": [
        "accuracy2 = accuracy_score(y2_test, y2_pred)\n",
        "print(\"Precisión: \")\n",
        "accuracy2.round(3)"
      ],
      "metadata": {
        "colab": {
          "base_uri": "https://localhost:8080/"
        },
        "outputId": "94b65e74-8951-4a85-b11c-f08a29c6bbb7",
        "id": "KGBcv0Omgxtc"
      },
      "execution_count": null,
      "outputs": [
        {
          "output_type": "stream",
          "name": "stdout",
          "text": [
            "Precisión: \n"
          ]
        },
        {
          "output_type": "execute_result",
          "data": {
            "text/plain": [
              "0.941"
            ]
          },
          "metadata": {},
          "execution_count": 156
        }
      ]
    },
    {
      "cell_type": "code",
      "source": [
        "recall2 = tpr2\n",
        "print(\"Exahustividad: \")\n",
        "recall2.round(3)"
      ],
      "metadata": {
        "colab": {
          "base_uri": "https://localhost:8080/"
        },
        "outputId": "cfd4eb1c-84cf-416c-e653-eff33cfd5308",
        "id": "aP1PQ7gVgxtc"
      },
      "execution_count": null,
      "outputs": [
        {
          "output_type": "stream",
          "name": "stdout",
          "text": [
            "Exahustividad: \n"
          ]
        },
        {
          "output_type": "execute_result",
          "data": {
            "text/plain": [
              "0.926"
            ]
          },
          "metadata": {},
          "execution_count": 166
        }
      ]
    },
    {
      "cell_type": "code",
      "source": [
        "f1score2 = f1_score(y2_test, y2_pred)\n",
        "print(\"F1 score: \")\n",
        "f1score2.round(4)"
      ],
      "metadata": {
        "colab": {
          "base_uri": "https://localhost:8080/"
        },
        "outputId": "92cb1ad8-8605-4698-8e18-163b0980e451",
        "id": "NT3oCoXegxtd"
      },
      "execution_count": null,
      "outputs": [
        {
          "output_type": "stream",
          "name": "stdout",
          "text": [
            "F1 score: \n"
          ]
        },
        {
          "output_type": "execute_result",
          "data": {
            "text/plain": [
              "0.9434"
            ]
          },
          "metadata": {},
          "execution_count": 168
        }
      ]
    },
    {
      "cell_type": "code",
      "source": [
        "error2 = (confmat2[1,0]+confmat2[0,1])/(confmat2[:,:].sum())\n",
        "accu2 = 1-error2\n",
        "print(\"Error: \"+str(error2.round(3))+\"\\n\"+\"Accuracy:\"+str(accu2.round(3)))"
      ],
      "metadata": {
        "colab": {
          "base_uri": "https://localhost:8080/"
        },
        "outputId": "46e9ad06-922c-46f4-9fad-2bf6add6c74e",
        "id": "LFf5xE15gxtd"
      },
      "execution_count": null,
      "outputs": [
        {
          "output_type": "stream",
          "name": "stdout",
          "text": [
            "Error: 0.059\n",
            "Accuracy:0.941\n"
          ]
        }
      ]
    },
    {
      "cell_type": "code",
      "source": [
        "mcc2 = matthews_corrcoef(y2_test, y2_pred)\n",
        "print(\"coeficiente de correlación de matthews: \")\n",
        "mcc2.round(3)"
      ],
      "metadata": {
        "colab": {
          "base_uri": "https://localhost:8080/"
        },
        "outputId": "0ba85188-2110-4446-bc82-4f8bd21cd33b",
        "id": "_XR7Sb29gxtd"
      },
      "execution_count": null,
      "outputs": [
        {
          "output_type": "stream",
          "name": "stdout",
          "text": [
            "coeficiente de correlación de matthews: \n"
          ]
        },
        {
          "output_type": "execute_result",
          "data": {
            "text/plain": [
              "0.883"
            ]
          },
          "metadata": {},
          "execution_count": 160
        }
      ]
    },
    {
      "cell_type": "code",
      "source": [
        "#define metrics\n",
        "y2_pred_proba = lr2.predict_proba(X2_test)[::,1]\n",
        "fpr2, tpr2, _ = metrics.roc_curve(y2_test,  y2_pred_proba)\n",
        "auc2 = metrics.roc_auc_score(y2_test, y2_pred_proba)\n",
        "#create ROC curve\n",
        "plt.plot(fpr2,tpr2,label=\"AUC=\"+str(auc1.round(3)))\n",
        "plt.ylabel('True Positive Rate')\n",
        "plt.xlabel('False Positive Rate')\n",
        "plt.legend(loc=4)\n",
        "plt.show()"
      ],
      "metadata": {
        "id": "LVHBlM0IhO2z",
        "colab": {
          "base_uri": "https://localhost:8080/",
          "height": 449
        },
        "outputId": "36019039-46af-4e69-fb7f-d812e52ecd0b"
      },
      "execution_count": null,
      "outputs": [
        {
          "output_type": "display_data",
          "data": {
            "text/plain": [
              "<Figure size 640x480 with 1 Axes>"
            ],
            "image/png": "[encoded data removed]"
          },
          "metadata": {}
        }
      ]
    }
  ]
}